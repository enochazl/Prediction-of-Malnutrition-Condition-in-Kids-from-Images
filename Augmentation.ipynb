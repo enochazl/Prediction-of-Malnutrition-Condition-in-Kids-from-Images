{
 "cells": [
  {
   "cell_type": "code",
   "execution_count": 1,
   "metadata": {
    "colab": {
     "base_uri": "https://localhost:8080/"
    },
    "executionInfo": {
     "elapsed": 4352,
     "status": "ok",
     "timestamp": 1741332818148,
     "user": {
      "displayName": "Lets Explore",
      "userId": "07314026774936592832"
     },
     "user_tz": -330
    },
    "id": "oC2ueIPYhZ07",
    "outputId": "7efbf237-a7dc-442d-e033-5037a04e2d9a"
   },
   "outputs": [
    {
     "name": "stdout",
     "output_type": "stream",
     "text": [
      "Requirement already satisfied: keras in /usr/local/lib/python3.11/dist-packages (3.8.0)\n",
      "Requirement already satisfied: absl-py in /usr/local/lib/python3.11/dist-packages (from keras) (1.4.0)\n",
      "Requirement already satisfied: numpy in /usr/local/lib/python3.11/dist-packages (from keras) (1.26.4)\n",
      "Requirement already satisfied: rich in /usr/local/lib/python3.11/dist-packages (from keras) (13.9.4)\n",
      "Requirement already satisfied: namex in /usr/local/lib/python3.11/dist-packages (from keras) (0.0.8)\n",
      "Requirement already satisfied: h5py in /usr/local/lib/python3.11/dist-packages (from keras) (3.12.1)\n",
      "Requirement already satisfied: optree in /usr/local/lib/python3.11/dist-packages (from keras) (0.14.1)\n",
      "Requirement already satisfied: ml-dtypes in /usr/local/lib/python3.11/dist-packages (from keras) (0.4.1)\n",
      "Requirement already satisfied: packaging in /usr/local/lib/python3.11/dist-packages (from keras) (24.2)\n",
      "Requirement already satisfied: typing-extensions>=4.5.0 in /usr/local/lib/python3.11/dist-packages (from optree->keras) (4.12.2)\n",
      "Requirement already satisfied: markdown-it-py>=2.2.0 in /usr/local/lib/python3.11/dist-packages (from rich->keras) (3.0.0)\n",
      "Requirement already satisfied: pygments<3.0.0,>=2.13.0 in /usr/local/lib/python3.11/dist-packages (from rich->keras) (2.18.0)\n",
      "Requirement already satisfied: mdurl~=0.1 in /usr/local/lib/python3.11/dist-packages (from markdown-it-py>=2.2.0->rich->keras) (0.1.2)\n"
     ]
    }
   ],
   "source": [
    "pip install keras\n"
   ]
  },
  {
   "cell_type": "code",
   "execution_count": 4,
   "metadata": {
    "colab": {
     "base_uri": "https://localhost:8080/"
    },
    "executionInfo": {
     "elapsed": 26365,
     "status": "ok",
     "timestamp": 1741337883479,
     "user": {
      "displayName": "Lets Explore",
      "userId": "07314026774936592832"
     },
     "user_tz": -330
    },
    "id": "mwGwfnmFhltF",
    "outputId": "34e29567-1b26-4075-cb4a-3842f4d661b5"
   },
   "outputs": [
    {
     "name": "stdout",
     "output_type": "stream",
     "text": [
      "Drive already mounted at /content/drive; to attempt to forcibly remount, call drive.mount(\"/content/drive\", force_remount=True).\n"
     ]
    }
   ],
   "source": [
    "from google.colab import drive\n",
    "drive.mount('/content/drive')"
   ]
  },
  {
   "cell_type": "code",
   "execution_count": 9,
   "metadata": {
    "executionInfo": {
     "elapsed": 83006,
     "status": "ok",
     "timestamp": 1741340984777,
     "user": {
      "displayName": "Lets Explore",
      "userId": "07314026774936592832"
     },
     "user_tz": -330
    },
    "id": "8gCiHKhihdz9"
   },
   "outputs": [],
   "source": [
    "import os\n",
    "from tensorflow.keras.preprocessing.image import ImageDataGenerator, array_to_img, img_to_array, load_img\n",
    "\n",
    "datagen = ImageDataGenerator(\n",
    "        rotation_range=30,\n",
    "        width_shift_range=0.1,\n",
    "        height_shift_range=0.1,\n",
    "        shear_range=0.15,\n",
    "        zoom_range=0.1,\n",
    "        horizontal_flip=True,\n",
    "        fill_mode='nearest')\n",
    "\n",
    "#set input and output directories\n",
    "input_dir = '/content/drive/MyDrive/data_science/train_malnutrition_images'  # Folder containing input images\n",
    "output_dir = '/content/drive/MyDrive/data_science/augmented_train_malnutritioned_images'  # Folder to save augmented images\n",
    "\n",
    "os.makedirs(output_dir, exist_ok=True)\n",
    "\n",
    "# Number of augmented images per input image\n",
    "num_augmented_images = 20\n",
    "\n",
    "# Loop through each image in the input directory\n",
    "for filename in os.listdir(input_dir):\n",
    "    if filename.endswith(('.jpg', '.jpeg', '.png')):  # Process only image files\n",
    "        img_path = os.path.join(input_dir, filename)\n",
    "        img = load_img(img_path)  # Load the image\n",
    "        x = img_to_array(img)  # Convert to NumPy array\n",
    "        x = x.reshape((1,) + x.shape)  # Reshape to add batch dimension\n",
    "\n",
    " # Generate 'num_augmented_images' per input image\n",
    "        i = 0\n",
    "        for batch in datagen.flow(x, batch_size=1,\n",
    "                                  save_to_dir=output_dir,\n",
    "                                  save_prefix=f'aug_{os.path.splitext(filename)[0]}',\n",
    "                                  save_format='jpg'):\n",
    "            i += 1\n",
    "            if i >= num_augmented_images:\n",
    "                break  # Stop after generating the required number of images\n"
   ]
  },
  {
   "cell_type": "code",
   "execution_count": null,
   "metadata": {
    "id": "zRomripTjJXP"
   },
   "outputs": [],
   "source": []
  }
 ],
 "metadata": {
  "colab": {
   "authorship_tag": "ABX9TyMJoTMa7dR90YsWDgu89d2r",
   "mount_file_id": "1TBy7LmBRxzKzoZUSrsLnQOZUUNruVt-s",
   "provenance": []
  },
  "kernelspec": {
   "display_name": "Python 3 (ipykernel)",
   "language": "python",
   "name": "python3"
  },
  "language_info": {
   "codemirror_mode": {
    "name": "ipython",
    "version": 3
   },
   "file_extension": ".py",
   "mimetype": "text/x-python",
   "name": "python",
   "nbconvert_exporter": "python",
   "pygments_lexer": "ipython3",
   "version": "3.11.2"
  }
 },
 "nbformat": 4,
 "nbformat_minor": 4
}
